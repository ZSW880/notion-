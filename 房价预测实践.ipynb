{
  "nbformat": 4,
  "nbformat_minor": 0,
  "metadata": {
    "colab": {
      "provenance": [],
      "gpuType": "T4"
    },
    "kernelspec": {
      "name": "python3",
      "display_name": "Python 3"
    },
    "language_info": {
      "name": "python"
    },
    "accelerator": "GPU"
  },
  "cells": [
    {
      "cell_type": "code",
      "execution_count": 1,
      "metadata": {
        "id": "hUuEeA8PW1P0"
      },
      "outputs": [],
      "source": [
        "import pandas as pd\n",
        "train_df=pd.read_csv('/content/train.csv')\n",
        "test_df=pd.read_csv('/content/test.csv')"
      ]
    },
    {
      "cell_type": "code",
      "source": [
        "\n",
        "# 训练集处理\n",
        "train_features = train_df.drop(['Id', 'SalePrice'], axis=1)\n",
        "train_labels = train_df['SalePrice']\n",
        "\n",
        "# 测试集处理\n",
        "test_feature = test_df.drop(['Id'], axis=1)\n",
        "\n",
        "# 合并特征\n",
        "all_feature = pd.concat((train_features, test_feature), axis=0)\n"
      ],
      "metadata": {
        "id": "mlvSUQ6faHu8"
      },
      "execution_count": 2,
      "outputs": []
    },
    {
      "cell_type": "code",
      "source": [
        "numeric_features=all_feature.dtypes[all_feature.dtypes!='object'].index\n",
        "all_feature[numeric_features]=all_feature[numeric_features].apply(lambda x:(x-x.mean())/x.std())\n",
        "all_feature[numeric_features]=all_feature[numeric_features].fillna(0)"
      ],
      "metadata": {
        "id": "9zpCpI7nbTaw"
      },
      "execution_count": 3,
      "outputs": []
    },
    {
      "cell_type": "code",
      "source": [
        "all_feature=pd.get_dummies(all_feature,dummy_na=True)\n"
      ],
      "metadata": {
        "id": "lfkk-TIbcqph"
      },
      "execution_count": 4,
      "outputs": []
    },
    {
      "cell_type": "code",
      "source": [
        "import torch\n",
        "import numpy as np\n",
        "all_features = all_feature.to_numpy(dtype=np.float32)\n",
        "n_train=train_df.shape[0]\n",
        "train_data=torch.tensor(all_features[:n_train],dtype=torch.float32)\n",
        "test_data=torch.tensor(all_features[n_train:],dtype=torch.float32)\n",
        "train_label=torch.tensor(train_df.SalePrice.values.reshape(-1,1),dtype=torch.float32)"
      ],
      "metadata": {
        "id": "8jAym-xpdGtj"
      },
      "execution_count": 5,
      "outputs": []
    },
    {
      "cell_type": "code",
      "source": [
        "from torch import nn\n",
        "input=train_data.shape[1]\n",
        "loss=nn.MSELoss()\n"
      ],
      "metadata": {
        "id": "Ew67_hkAQ_cd"
      },
      "execution_count": 6,
      "outputs": []
    },
    {
      "cell_type": "code",
      "source": [
        "def log_loss(feature,label):\n",
        "  cl=torch.clamp(net(feature),1,float('inf'))\n",
        "  los=torch.sqrt(loss(torch.log(cl),torch.log(label)))\n",
        "  return los.item()"
      ],
      "metadata": {
        "id": "FbCX6AqJSf4z"
      },
      "execution_count": 7,
      "outputs": []
    },
    {
      "cell_type": "code",
      "source": [
        "from torch.utils.data import TensorDataset,DataLoader\n",
        "from tqdm import tqdm"
      ],
      "metadata": {
        "id": "U3-PWmapUMup"
      },
      "execution_count": 8,
      "outputs": []
    },
    {
      "cell_type": "code",
      "source": [
        "\"\"\"\n",
        "法一\n",
        "from sklearn.model_selection import train_test_split\n",
        "# 拆分训练集和验证集\n",
        "train_X, val_X, train_y, val_y = train_test_split(\n",
        "    train_data, train_label, test_size=0.2, random_state=42\n",
        ")\n",
        "\n",
        "法二\n",
        "from sklearn.model_selection import KFold\n",
        "kf = KFold(n_splits=5, shuffle=True, random_state=42)\n",
        "for train_idx, val_idx in kf.split(train_data):\n",
        "    X_train_fold = train_data[train_idx]\n",
        "    y_train_fold = train_label[train_idx]\n",
        "    X_val_fold = train_data[val_idx]\n",
        "    y_val_fold = train_label[val_idx]\n",
        "    # 在这里训练和验证\n",
        "\n",
        "\"\"\""
      ],
      "metadata": {
        "colab": {
          "base_uri": "https://localhost:8080/",
          "height": 104
        },
        "id": "0mcDI1z2a9QK",
        "outputId": "bae68055-b94e-4a29-9dab-2d3682263a16"
      },
      "execution_count": 9,
      "outputs": [
        {
          "output_type": "execute_result",
          "data": {
            "text/plain": [
              "'\\n法一\\nfrom sklearn.model_selection import train_test_split\\n# 拆分训练集和验证集\\ntrain_X, val_X, train_y, val_y = train_test_split(\\n    train_data, train_label, test_size=0.2, random_state=42\\n)\\n\\n法二\\nfrom sklearn.model_selection import KFold\\nkf = KFold(n_splits=5, shuffle=True, random_state=42)\\nfor train_idx, val_idx in kf.split(train_data):\\n    X_train_fold = train_data[train_idx]\\n    y_train_fold = train_label[train_idx]\\n    X_val_fold = train_data[val_idx]\\n    y_val_fold = train_label[val_idx]\\n    # 在这里训练和验证\\n\\n'"
            ],
            "application/vnd.google.colaboratory.intrinsic+json": {
              "type": "string"
            }
          },
          "metadata": {},
          "execution_count": 9
        }
      ]
    },
    {
      "cell_type": "code",
      "source": [
        "device='cuda'\n",
        "epoches=100\n",
        "batch_size=128\n",
        "train_loss=[]\n",
        "test_loss=[]\n",
        "net=nn.Sequential(nn.Linear(input,256),nn.ReLU(),nn.Linear(256,1))\n",
        "net=net.to(device)\n",
        "optimizer=torch.optim.Adam(net.parameters(),lr=1)\n",
        "def train(train_feature,train_label,test_feature,test_label):\n",
        "\n",
        "\n",
        "\n",
        "  train_set=TensorDataset(train_feature,train_label)\n",
        "  train_loader=DataLoader(train_set,shuffle=True,num_workers=2,batch_size=64)\n",
        "  test_set=TensorDataset(test_feature,test_label)\n",
        "  test_loader=DataLoader(test_set,shuffle=True,num_workers=2,batch_size=64)\n",
        "  a=len(train_loader.dataset)\n",
        "  test_feature=test_feature.to(device)\n",
        "  test_label=test_label.to(device)\n",
        "  train_feature=train_feature.to(device)\n",
        "  train_label=train_label.to(device)\n",
        "  for epoch in range(epoches):\n",
        "    for x,y in train_loader:\n",
        "      x,y=x.to(device),y.to(device)\n",
        "      l=loss(net(x),y)\n",
        "      optimizer.zero_grad()\n",
        "      l.backward()\n",
        "      optimizer.step()\n",
        "    l=log_loss(train_feature,train_label)\n",
        "    train_loss.append(l)\n",
        "    l=log_loss(test_feature,test_label)\n",
        "    test_loss.append(l)\n",
        "\n",
        "\n"
      ],
      "metadata": {
        "id": "DTAlH155TO4j"
      },
      "execution_count": 29,
      "outputs": []
    },
    {
      "cell_type": "code",
      "source": [
        "print(train_data.shape[0], train_label.shape[0])\n"
      ],
      "metadata": {
        "colab": {
          "base_uri": "https://localhost:8080/"
        },
        "id": "WkV64jLIgdRg",
        "outputId": "b21428cf-64f8-4932-b9d5-9a191fd011c8"
      },
      "execution_count": 11,
      "outputs": [
        {
          "output_type": "stream",
          "name": "stdout",
          "text": [
            "1460 1460\n"
          ]
        }
      ]
    },
    {
      "cell_type": "code",
      "source": [
        "from sklearn.model_selection import KFold\n",
        "kf=KFold(n_splits=6,shuffle=True,random_state=42)\n",
        "for train_idx,test_idx in kf.split(train_data):\n",
        "  x_train=train_data[train_idx]\n",
        "  y_train=train_label[train_idx]\n",
        "  x_test=train_data[test_idx]\n",
        "  y_test=train_label[test_idx]\n",
        "  train(x_train,y_train,x_test,y_test)"
      ],
      "metadata": {
        "collapsed": true,
        "id": "Wh5Xsz6BV2mr"
      },
      "execution_count": 30,
      "outputs": []
    },
    {
      "cell_type": "code",
      "source": [
        "import matplotlib.pyplot as plt\n",
        "plt.plot(range(1,epoches+1),train_loss[500:600],label='train_loss')\n",
        "plt.plot(range(1,epoches+1),test_loss[500:600],label='test_loss')\n",
        "plt.legend()\n",
        "plt.show()"
      ],
      "metadata": {
        "colab": {
          "base_uri": "https://localhost:8080/",
          "height": 430
        },
        "id": "0a6QsVEKZbUC",
        "outputId": "33c7c4d4-2a19-459b-d6d0-831e028cf4f4"
      },
      "execution_count": 34,
      "outputs": [
        {
          "output_type": "display_data",
          "data": {
            "text/plain": [
              "<Figure size 640x480 with 1 Axes>"
            ],
            "image/png": "[encoded data removed]"
          },
          "metadata": {}
        }
      ]
    },
    {
      "cell_type": "code",
      "source": [
        "net.eval()\n",
        "pred=net(test_data.to(device))\n",
        "pred=pred.cpu().detach().numpy().reshape(-1)\n",
        "test_ids=test_df['Id']\n",
        "output_df=pd.DataFrame({\n",
        "    'Id':test_ids,\n",
        "    'SalePrice':pred\n",
        "}\n",
        ")\n",
        "output_df.to_csv('submission.csv',index=False)\n",
        "print('right')"
      ],
      "metadata": {
        "colab": {
          "base_uri": "https://localhost:8080/"
        },
        "id": "Qy-9-zZmabIZ",
        "outputId": "e0533d4b-ff25-43c6-8864-a3d769a0471f"
      },
      "execution_count": 33,
      "outputs": [
        {
          "output_type": "stream",
          "name": "stdout",
          "text": [
            "right\n"
          ]
        }
      ]
    }
  ]
}